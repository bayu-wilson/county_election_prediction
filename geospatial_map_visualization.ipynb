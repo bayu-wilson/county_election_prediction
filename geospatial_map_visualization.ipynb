{
 "cells": [
  {
   "cell_type": "markdown",
   "id": "0b159d49-966a-4865-8f51-79af17243ff6",
   "metadata": {},
   "source": [
    "# Election map visualization\n",
    "\n",
    "Bayu Wilson\n",
    "\n",
    "In `integration_and_model_training.ipynb` I used data from the MIT Election lab, the Decennial Census, and the American Community Survey to make an integrated dataset. I also performed feature engineering to extract useful predictors for flipped counties. Finally, I trained an XGBoost classifier to predict whether counties are likely to flip or not.\n",
    "\n",
    "We will be visualizing geospatial data using a Python library called [Folium](https://python-visualization.github.io/folium/latest/)."
   ]
  },
  {
   "cell_type": "markdown",
   "id": "d80d3002-7ccf-468e-81b1-e61b1f280846",
   "metadata": {},
   "source": [
    "Loading in useful libraries"
   ]
  },
  {
   "cell_type": "code",
   "execution_count": 163,
   "id": "47a2c73e-e58e-48db-8592-d576761ab338",
   "metadata": {},
   "outputs": [],
   "source": [
    "import json\n",
    "import folium\n",
    "from branca.element import MacroElement\n",
    "from jinja2 import Template\n",
    "import branca.colormap as cm\n",
    "import pandas as pd\n",
    "from IPython.display import IFrame"
   ]
  },
  {
   "cell_type": "markdown",
   "id": "d8f92c5a-5274-4708-b30a-52a314912544",
   "metadata": {},
   "source": [
    "Useful functions for colormaps"
   ]
  },
  {
   "cell_type": "code",
   "execution_count": 46,
   "id": "814e9fb3-9bd5-49b0-8270-fbee67afd873",
   "metadata": {
    "tags": []
   },
   "outputs": [],
   "source": [
    "class BindColormap(MacroElement):\n",
    "    \"\"\"Binds a colormap to a given layer.\n",
    "\n",
    "    Parameters\n",
    "    ----------\n",
    "    colormap : branca.colormap.ColorMap\n",
    "        The colormap to bind.\n",
    "    \"\"\"\n",
    "    def __init__(self, layer, colormap):\n",
    "        super(BindColormap, self).__init__()\n",
    "        self.layer = layer\n",
    "        self.colormap = colormap\n",
    "        self._template = Template(u\"\"\"\n",
    "        {% macro script(this, kwargs) %}\n",
    "            {{this.colormap.get_name()}}.svg[0][0].style.display = 'block';\n",
    "            {{this._parent.get_name()}}.on('overlayadd', function (eventLayer) {\n",
    "                if (eventLayer.layer == {{this.layer.get_name()}}) {\n",
    "                    {{this.colormap.get_name()}}.svg[0][0].style.display = 'block';\n",
    "                }});\n",
    "            {{this._parent.get_name()}}.on('overlayremove', function (eventLayer) {\n",
    "                if (eventLayer.layer == {{this.layer.get_name()}}) {\n",
    "                    {{this.colormap.get_name()}}.svg[0][0].style.display = 'none';\n",
    "                }});\n",
    "        {% endmacro %}\n",
    "        \"\"\")\n",
    "        \n",
    "step = cm.StepColormap(\n",
    "    [\"red\", \"white\",\"blue\"], vmin=-1, vmax=1, \n",
    "    caption=\"Flipped counties from previous election. -1 = flip to R, 0 = no flip, 1 = flip to D\")"
   ]
  },
  {
   "cell_type": "markdown",
   "id": "8b10d60d-f923-4cd7-9f9f-be5d5be9b7d2",
   "metadata": {
    "tags": []
   },
   "source": [
    "### Taking a look at the geojson file\n",
    "\n",
    "GeoJSON is a format for encoding a variety of geographic data structures. In this case, it contains shape information about counties in the USA.\n",
    "\n",
    "`STATEFP` is for state identifier. For example, 06 is California\n",
    "\n",
    "`COUNTYFP` is for county identifier. \n",
    "\n",
    "Combine them together to get `GEOID`. For example, 06075 is San Francisco county, California."
   ]
  },
  {
   "cell_type": "code",
   "execution_count": 164,
   "id": "d6d8adbe-b68b-4525-8f4c-88922b28ad95",
   "metadata": {
    "tags": []
   },
   "outputs": [
    {
     "data": {
      "text/plain": [
       "{'STATEFP': '06',\n",
       " 'COUNTYFP': '075',\n",
       " 'COUNTYNS': '00277302',\n",
       " 'AFFGEOID': '0500000US06075',\n",
       " 'GEOID': '06075',\n",
       " 'NAME': 'San Francisco',\n",
       " 'LSAD': '06',\n",
       " 'ALAND': 121485107,\n",
       " 'AWATER': 479107241}"
      ]
     },
     "execution_count": 164,
     "metadata": {},
     "output_type": "execute_result"
    }
   ],
   "source": [
    "geojson_file = \"data/counties.geojson\"\n",
    "with open(geojson_file) as f:\n",
    "    geojson_data = json.load(f)\n",
    "geojson_data['features'][0]['properties'] #key on \"feature.properties.GEOID\""
   ]
  },
  {
   "cell_type": "markdown",
   "id": "9dd656af-b6d0-4bf2-9fc5-cfe31a4e321b",
   "metadata": {},
   "source": [
    "loading in flipped county data"
   ]
  },
  {
   "cell_type": "code",
   "execution_count": 166,
   "id": "fb827f6a-48ca-4f3e-bf4b-74fd2f6854d3",
   "metadata": {},
   "outputs": [],
   "source": [
    "df_total_before = pd.read_csv(\"data/df_total_2016-2020.csv\")\n",
    "df_total_future = pd.read_csv(\"data/df_total_2022.csv\")\n",
    "df_total_before[\"flipped\"] = df_total_before[\"flipped\"].map({0:0,1:1,2:-1}) #-1 (flip to R classification) mapped to 2\n",
    "df_total_future[\"flipped\"] = df_total_future[\"flipped\"].map({0:0,1:1,2:-1}) #XGBoost likes classes to be >=0"
   ]
  },
  {
   "cell_type": "markdown",
   "id": "0ee36e28-d280-4f9c-b8cb-36d7192088b1",
   "metadata": {},
   "source": [
    "### Map visualization functions"
   ]
  },
  {
   "cell_type": "code",
   "execution_count": 170,
   "id": "a694edd5-9b91-472e-8b9c-85ea505dd1a5",
   "metadata": {
    "jupyter": {
     "source_hidden": true
    },
    "tags": []
   },
   "outputs": [],
   "source": [
    "year_list = df_total_before['year'].unique()\n",
    "\n",
    "def get_marker(coords,text,color):\n",
    "    marker = folium.Marker(coords, popup=folium.Popup(text, parse_html=True, max_width=100),\n",
    "            icon=folium.Icon(color=color,icon='star', prefix='fa'))\n",
    "    return marker\n",
    "\n",
    "def make_map():\n",
    "    m = folium.Map(tiles=None,location=[39.0997, -94.5786], zoom_start=4)\n",
    "    base_map = folium.FeatureGroup(name='Basemap', overlay=True, control=False)\n",
    "    folium.TileLayer(tiles='cartodb positron',min_zoom=4).add_to(base_map)\n",
    "    \n",
    "    base_map.add_to(m)\n",
    "    \n",
    "    df_list = [df_total_before[df_total_before[\"year\"]==year_list[0]],\n",
    "              df_total_before[df_total_before[\"year\"]==year_list[1]],\n",
    "              df_total_future[df_total_future[\"year\"]==2022]]\n",
    "    year_range_str_list = [\"2012-2016\",\"2016-2020\",\"2020-2024 prediction\"]\n",
    "    for i in range(3):\n",
    "        df_i = df_list[i].copy()\n",
    "        df_i = df_i.reset_index()\n",
    "\n",
    "        year_range_str = year_range_str_list[i]\n",
    "        choropleth = folium.Choropleth(\n",
    "            geo_data=geojson_file,\n",
    "            name=year_range_str,\n",
    "            data=df_i,\n",
    "            columns=[\"county_fips\", \"flipped\"],\n",
    "            key_on=\"feature.properties.GEOID\",\n",
    "            fill_color=\"RdBu\",\n",
    "            colormap=step,\n",
    "            fill_opacity=0.5,\n",
    "            line_opacity=0.1,\n",
    "            bins=3,\n",
    "            show=i==2, \n",
    "            overlay=False,\n",
    "        )\n",
    "\n",
    "        county_labels = folium.GeoJson(geojson_file,\n",
    "        name='Counties',\n",
    "        tooltip=folium.GeoJsonTooltip(\n",
    "            fields=['NAME'],  # Column from GeoJSON to display\n",
    "            aliases=['County Name:'],  # Label for the tooltip\n",
    "            localize=True\n",
    "        ),overlay=True,control=False,\n",
    "        style_function=lambda x: {'fillColor': 'transparent', 'color': 'transparent', 'weight': 0}  # Hide borders\n",
    "        )\n",
    "        \n",
    "        for child in choropleth._children:\n",
    "            if child.startswith(\"color_map\"):\n",
    "                del choropleth._children[child]\n",
    "\n",
    "        if i ==2:\n",
    "            text_flip2D = \"top 3 most populous counties predicted to flip to D\"\n",
    "            color_flip2D = \"blue\"\n",
    "            coords_flip2D = [[40.9849, -72.6151],[42.7169, -82.8210],[33.1795, -96.4930]]\n",
    "\n",
    "            text_flip2R = \"top 3 most populous counties predicted to flip to R\"\n",
    "            color_flip2R = \"red\"\n",
    "            coords_flip2R = [[37.5091, -120.9876],[42.9931, -71.0498],[42.0522, -80.1875]]\n",
    "\n",
    "            for j in range(3):\n",
    "                marker_D = get_marker(coords_flip2D[j],text_flip2D,color_flip2D)\n",
    "                marker_D.add_to(choropleth)\n",
    "                marker_R = get_marker(coords_flip2R[j],text_flip2R,color_flip2R)\n",
    "                marker_R.add_to(choropleth)\n",
    "            \n",
    "        m.add_child(step)\n",
    "        county_labels.add_to(choropleth)\n",
    "        m.add_child(choropleth)\n",
    "        bc = BindColormap(choropleth, step)\n",
    "        m.add_child(bc)\n",
    "    \n",
    "\n",
    "    folium.LayerControl(collapsed=False, position='topright', overlay=False).add_to(m)\n",
    "\n",
    "    m.save('map.html')\n",
    "\n",
    "    # Display the map using an IFrame with custom width and height\n",
    "    return IFrame('map.html', width=800, height=600)"
   ]
  },
  {
   "cell_type": "code",
   "execution_count": 172,
   "id": "10895f9b-4310-4ea2-98bc-d8f0f64ea2b2",
   "metadata": {},
   "outputs": [
    {
     "data": {
      "text/html": [
       "\n",
       "        <iframe\n",
       "            width=\"800\"\n",
       "            height=\"600\"\n",
       "            src=\"map.html\"\n",
       "            frameborder=\"0\"\n",
       "            allowfullscreen\n",
       "            \n",
       "        ></iframe>\n",
       "        "
      ],
      "text/plain": [
       "<IPython.lib.display.IFrame at 0x30b867d00>"
      ]
     },
     "execution_count": 172,
     "metadata": {},
     "output_type": "execute_result"
    }
   ],
   "source": [
    "make_map()"
   ]
  }
 ],
 "metadata": {
  "kernelspec": {
   "display_name": "Python 3 (ipykernel)",
   "language": "python",
   "name": "python3"
  },
  "language_info": {
   "codemirror_mode": {
    "name": "ipython",
    "version": 3
   },
   "file_extension": ".py",
   "mimetype": "text/x-python",
   "name": "python",
   "nbconvert_exporter": "python",
   "pygments_lexer": "ipython3",
   "version": "3.10.6"
  }
 },
 "nbformat": 4,
 "nbformat_minor": 5
}
