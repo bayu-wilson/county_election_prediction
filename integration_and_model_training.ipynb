{
 "cells": [
  {
   "cell_type": "markdown",
   "id": "f491badf-86de-4c12-89a6-92d394177a07",
   "metadata": {},
   "source": [
    "# Predicting county flips in presidential election\n",
    "\n",
    "Bayu Wilson"
   ]
  },
  {
   "cell_type": "markdown",
   "id": "28a49d53-01fb-43a6-bd91-c8064651c5c3",
   "metadata": {},
   "source": [
    "Importing useful libraries"
   ]
  },
  {
   "cell_type": "code",
   "execution_count": 1,
   "id": "c16a4220-5b55-4c5a-bf21-643b308cd532",
   "metadata": {},
   "outputs": [],
   "source": [
    "import pandas as pd\n",
    "import numpy as np\n",
    "import json\n",
    "import seaborn as sns\n",
    "import requests"
   ]
  },
  {
   "cell_type": "markdown",
   "id": "2a25d939-1cf0-47fa-a3d0-dfc8812544aa",
   "metadata": {},
   "source": [
    "Defining useful functions"
   ]
  },
  {
   "cell_type": "code",
   "execution_count": 2,
   "id": "faf2af4e-9cb4-40f1-9562-f2fe1a49faac",
   "metadata": {},
   "outputs": [],
   "source": [
    "def get_swing_counties(group,swing_threshold=0.05):\n",
    "    \"\"\"\n",
    "    County is a swing county if the margin between the top two candidates were < `swing_threshold`.\n",
    "    group: a pandas groupby object\n",
    "    swing_threshold: threshold such that a margin below this number is classified as a swing county\n",
    "    is_swing: boolean for whether or not the county is a swing county\n",
    "    \"\"\"\n",
    "    top_two = group.nlargest(2, 'candidatevotes')\n",
    "    total_top_two = top_two['candidatevotes'].sum()\n",
    "    margin = np.abs(np.diff(top_two['candidatevotes']/total_top_two)[0])\n",
    "    # if np.max(top_two) > 100_000:\n",
    "    is_swing = (margin<swing_threshold)\n",
    "    return is_swing\n",
    "\n",
    "# Function to fetch and process data\n",
    "def fetch_census_data(url):\n",
    "    response = requests.get(url)\n",
    "    data = response.json()\n",
    "    columns = data[0]\n",
    "    df = pd.DataFrame(data[1:], columns=columns)\n",
    "    return df"
   ]
  },
  {
   "cell_type": "code",
   "execution_count": 3,
   "id": "67617d6d-cc8a-42aa-9679-38cf28184ff2",
   "metadata": {},
   "outputs": [],
   "source": [
    "### loading presidenial election results\n",
    "df = pd.read_csv(\"data/dataverse_files/countypres_2000-2020.csv\") #presidential election results from MIT Election Lab\n",
    "df.drop(columns=[\"state\",\"office\",\"version\",\"candidate\",\"mode\"],inplace=True) #dropping useless information\n",
    "df.dropna(inplace=True) #ignoring nan values\n",
    "df = df[df.candidatevotes>0] #ignoring rows with no votes. \n",
    "df['county_fips'] = df['county_fips'].astype(int).astype(str).str.zfill(5)\n",
    "swing_counties = df.groupby(['year', 'county_fips']).apply(get_swing_counties).reset_index(name='swing')\n",
    "df = df.merge(swing_counties,on=['year', 'county_fips']) #adding swing classification to main dataframe\n",
    "\n",
    "### Getting presidential winners for each year\n",
    "df_winners_by_year = df.loc[df.groupby(['year','county_fips'])[\"candidatevotes\"].idxmax()] #find county election winner (most votes)\n",
    "df_winners_by_year = pd.get_dummies(df_winners_by_year, columns=['party']) #one-hot encodes which party won (D or R)\n",
    "df_winners_by_year = df_winners_by_year.drop(columns=[\"party_REPUBLICAN\"])\n",
    "df_winners_by_year[\"party_DEMOCRAT\"] = df_winners_by_year[\"party_DEMOCRAT\"].astype(int)"
   ]
  },
  {
   "cell_type": "code",
   "execution_count": 4,
   "id": "e3b47a3f-9e4a-4627-aec6-9f0308cfc012",
   "metadata": {},
   "outputs": [],
   "source": [
    "### defining target (flipped county from last election) and adding column for if the county was previously a swing county\n",
    "election_year_list = [2012,2016,2020]\n",
    "df_elec = pd.DataFrame()\n",
    "for i in range(1,len(election_year_list)):\n",
    "    year_prev = election_year_list[i-1]\n",
    "    year_curr = election_year_list[i]\n",
    "    df_prev = df_winners_by_year[df_winners_by_year['year']==year_prev].copy().set_index('county_fips')\n",
    "    df_curr = df_winners_by_year[df_winners_by_year['year']==year_curr].copy().set_index('county_fips')\n",
    "    df_curr['flipped'] = df_curr['party_DEMOCRAT']-df_prev['party_DEMOCRAT']\n",
    "    df_curr['swing_prev'] = df_prev['swing'].astype(int)\n",
    "    df_curr['party_prev'] = df_prev['party_DEMOCRAT'].astype(int)\n",
    "    df_curr.dropna(inplace=True)\n",
    "    df_curr = df_curr.drop(columns=[\"state_po\",\"county_name\",\"swing\",\"candidatevotes\",\"party_DEMOCRAT\"])\n",
    "    #positive 1 means switched to D, -1 means switched to R, 0 means no change\n",
    "    df_elec = pd.concat([df_elec,df_curr])\n",
    "df_elec = df_elec.reset_index()\n",
    "df_elec = df_elec.astype({\"flipped\":int,\"swing_prev\":int,\"year\":str,\"party_prev\":int})"
   ]
  },
  {
   "cell_type": "markdown",
   "id": "d129638a-dd5e-4aa4-9ce4-1b6091bd8059",
   "metadata": {},
   "source": [
    "`df_elec` is the first dataframe which mainly contains the target variable: `flipped`"
   ]
  },
  {
   "cell_type": "code",
   "execution_count": 5,
   "id": "241197d6-45ad-495d-b396-0c5bdb4a188f",
   "metadata": {},
   "outputs": [
    {
     "name": "stdout",
     "output_type": "stream",
     "text": [
      "3154\n"
     ]
    },
    {
     "data": {
      "text/html": [
       "<div>\n",
       "<style scoped>\n",
       "    .dataframe tbody tr th:only-of-type {\n",
       "        vertical-align: middle;\n",
       "    }\n",
       "\n",
       "    .dataframe tbody tr th {\n",
       "        vertical-align: top;\n",
       "    }\n",
       "\n",
       "    .dataframe thead th {\n",
       "        text-align: right;\n",
       "    }\n",
       "</style>\n",
       "<table border=\"1\" class=\"dataframe\">\n",
       "  <thead>\n",
       "    <tr style=\"text-align: right;\">\n",
       "      <th></th>\n",
       "      <th>county_fips</th>\n",
       "      <th>year</th>\n",
       "      <th>totalvotes</th>\n",
       "      <th>flipped</th>\n",
       "      <th>swing_prev</th>\n",
       "      <th>party_prev</th>\n",
       "    </tr>\n",
       "  </thead>\n",
       "  <tbody>\n",
       "    <tr>\n",
       "      <th>0</th>\n",
       "      <td>01001</td>\n",
       "      <td>2016</td>\n",
       "      <td>24973</td>\n",
       "      <td>0</td>\n",
       "      <td>0</td>\n",
       "      <td>0</td>\n",
       "    </tr>\n",
       "    <tr>\n",
       "      <th>1</th>\n",
       "      <td>01003</td>\n",
       "      <td>2016</td>\n",
       "      <td>95215</td>\n",
       "      <td>0</td>\n",
       "      <td>0</td>\n",
       "      <td>0</td>\n",
       "    </tr>\n",
       "    <tr>\n",
       "      <th>2</th>\n",
       "      <td>01005</td>\n",
       "      <td>2016</td>\n",
       "      <td>10469</td>\n",
       "      <td>-1</td>\n",
       "      <td>1</td>\n",
       "      <td>1</td>\n",
       "    </tr>\n",
       "    <tr>\n",
       "      <th>3</th>\n",
       "      <td>01007</td>\n",
       "      <td>2016</td>\n",
       "      <td>8819</td>\n",
       "      <td>0</td>\n",
       "      <td>0</td>\n",
       "      <td>0</td>\n",
       "    </tr>\n",
       "    <tr>\n",
       "      <th>4</th>\n",
       "      <td>01009</td>\n",
       "      <td>2016</td>\n",
       "      <td>25588</td>\n",
       "      <td>0</td>\n",
       "      <td>0</td>\n",
       "      <td>0</td>\n",
       "    </tr>\n",
       "  </tbody>\n",
       "</table>\n",
       "</div>"
      ],
      "text/plain": [
       "  county_fips  year  totalvotes  flipped  swing_prev  party_prev\n",
       "0       01001  2016       24973        0           0           0\n",
       "1       01003  2016       95215        0           0           0\n",
       "2       01005  2016       10469       -1           1           1\n",
       "3       01007  2016        8819        0           0           0\n",
       "4       01009  2016       25588        0           0           0"
      ]
     },
     "execution_count": 5,
     "metadata": {},
     "output_type": "execute_result"
    }
   ],
   "source": [
    "print(np.unique(df_elec.county_fips).__len__())\n",
    "df_elec.head()"
   ]
  },
  {
   "cell_type": "code",
   "execution_count": 6,
   "id": "da85afde-bea8-433e-96fd-ba03f9e806e8",
   "metadata": {},
   "outputs": [
    {
     "data": {
      "text/html": [
       "<div>\n",
       "<style scoped>\n",
       "    .dataframe tbody tr th:only-of-type {\n",
       "        vertical-align: middle;\n",
       "    }\n",
       "\n",
       "    .dataframe tbody tr th {\n",
       "        vertical-align: top;\n",
       "    }\n",
       "\n",
       "    .dataframe thead th {\n",
       "        text-align: right;\n",
       "    }\n",
       "</style>\n",
       "<table border=\"1\" class=\"dataframe\">\n",
       "  <thead>\n",
       "    <tr style=\"text-align: right;\">\n",
       "      <th></th>\n",
       "      <th>year</th>\n",
       "      <th>county_fips</th>\n",
       "      <th>totalvotes</th>\n",
       "      <th>swing_prev</th>\n",
       "      <th>party_prev</th>\n",
       "    </tr>\n",
       "  </thead>\n",
       "  <tbody>\n",
       "    <tr>\n",
       "      <th>0</th>\n",
       "      <td>2022</td>\n",
       "      <td>01001</td>\n",
       "      <td>27770</td>\n",
       "      <td>0</td>\n",
       "      <td>0</td>\n",
       "    </tr>\n",
       "    <tr>\n",
       "      <th>1</th>\n",
       "      <td>2022</td>\n",
       "      <td>01003</td>\n",
       "      <td>109679</td>\n",
       "      <td>0</td>\n",
       "      <td>0</td>\n",
       "    </tr>\n",
       "    <tr>\n",
       "      <th>2</th>\n",
       "      <td>2022</td>\n",
       "      <td>01005</td>\n",
       "      <td>10518</td>\n",
       "      <td>0</td>\n",
       "      <td>0</td>\n",
       "    </tr>\n",
       "    <tr>\n",
       "      <th>3</th>\n",
       "      <td>2022</td>\n",
       "      <td>01007</td>\n",
       "      <td>9595</td>\n",
       "      <td>0</td>\n",
       "      <td>0</td>\n",
       "    </tr>\n",
       "    <tr>\n",
       "      <th>4</th>\n",
       "      <td>2022</td>\n",
       "      <td>01009</td>\n",
       "      <td>27588</td>\n",
       "      <td>0</td>\n",
       "      <td>0</td>\n",
       "    </tr>\n",
       "  </tbody>\n",
       "</table>\n",
       "</div>"
      ],
      "text/plain": [
       "   year county_fips  totalvotes  swing_prev  party_prev\n",
       "0  2022       01001       27770           0           0\n",
       "1  2022       01003      109679           0           0\n",
       "2  2022       01005       10518           0           0\n",
       "3  2022       01007        9595           0           0\n",
       "4  2022       01009       27588           0           0"
      ]
     },
     "execution_count": 6,
     "metadata": {},
     "output_type": "execute_result"
    }
   ],
   "source": [
    "df_elec_upcoming = df_winners_by_year[df_winners_by_year[\"year\"] == 2020].reset_index(drop=True)\n",
    "df_elec_upcoming[\"year\"] = \"2022\"\n",
    "df_elec_upcoming = df_elec_upcoming.rename(columns={\"swing\":\"swing_prev\"})\n",
    "df_elec_upcoming = df_elec_upcoming.astype({\"swing_prev\":int})\n",
    "df_elec_upcoming['party_prev'] = df_elec_upcoming['party_DEMOCRAT'].astype(int)\n",
    "df_elec_upcoming = df_elec_upcoming.drop(columns=[\"state_po\",\"county_name\",\"candidatevotes\",\"party_DEMOCRAT\"])\n",
    "df_elec_upcoming.head() #no flipped because we don't know it yet!\n",
    "\n",
    "### we predict election as if it is happening in 2022. We assume total votes is same as 2020 election. \n",
    "#swing_prev tells us if county  was a swing county in 2020,\n",
    "# party_democrat is from 2020"
   ]
  },
  {
   "cell_type": "markdown",
   "id": "85f12cc4-3c5b-40e8-b9a7-5e094ad092f4",
   "metadata": {},
   "source": [
    "### loading data from DEC and ACS\n",
    "\n",
    "| Source | Code           | Description                                                       |\n",
    "|--------|----------------|-------------------------------------------------------------------|\n",
    "| **DEC**| P001001        | Total population                                                  |\n",
    "|        | P002002        | Urban population                                                  |\n",
    "|        | P002005        | Rural population                                                  |\n",
    "| **ACS**| B01003_001E    | Total population                                                  |\n",
    "|        | B15003_022E    | Number of people aged 25 and older with a bachelor's degree or higher |\n",
    "|        | B19301_001E    | Per capita income                                                 |\n",
    "|        | B17001_002E    | Number of people whose income in the past 12 months is below the poverty level |\n",
    "|        | B02001_002E    | Number of people identifying as \"White alone\"                     |\n",
    "|        | B23025_005E    | Number of unemployed individuals (aged 16 and over)               |\n"
   ]
  },
  {
   "cell_type": "code",
   "execution_count": 7,
   "id": "3566a3df-55ea-4333-bafd-ef83a36a0916",
   "metadata": {},
   "outputs": [],
   "source": [
    "### get rural/urban classification\n",
    "dec_url = \"https://api.census.gov/data/{}/dec/sf1?get=P001001,P002002,P002005,NAME&for=county:*\"\n",
    "df_dec = fetch_census_data(dec_url.format('2010'))\n",
    "df_dec[\"rural\"] = (df_dec[\"P002005\"]>df_dec[\"P002002\"]).astype(int)\n",
    "df_dec[\"county_fips\"] = df_dec[\"state\"]+df_dec[\"county\"]\n",
    "df_dec = df_dec[[\"county_fips\",\"rural\",\"state\"]]\n",
    "df_dec[\"state\"] = df_dec[\"state\"].astype(int)"
   ]
  },
  {
   "cell_type": "code",
   "execution_count": 8,
   "id": "ea977cd3-43b1-4c52-9888-8e917ee1264d",
   "metadata": {},
   "outputs": [],
   "source": [
    "# df_dec.head()\n",
    "# np.unique(df_dec.county_fips).__len__()"
   ]
  },
  {
   "cell_type": "code",
   "execution_count": 9,
   "id": "a80ab761-f701-43dc-9456-5c4facd928c5",
   "metadata": {},
   "outputs": [],
   "source": [
    "### getting data from ACS for the years of interest\n",
    "acs_url = \"https://api.census.gov/data/{}/acs/acs5?get=\"\n",
    "acs_url+= f\"B01003_001E,B15003_022E,B19301_001E,B17001_002E,B02001_002E,B23025_005E,NAME&for=county:*\"\n",
    "\n",
    "acs_year_list = [\"2014\",\"2016\",\"2018\",\"2020\",\"2022\"]\n",
    "df_acs = pd.DataFrame()\n",
    "for i in range(len(acs_year_list)):\n",
    "    df_i = fetch_census_data(acs_url.format(acs_year_list[i]))    \n",
    "    df_i[\"year\"] = acs_year_list[i]\n",
    "    df_acs = pd.concat([df_acs,df_i],ignore_index=True)\n",
    "acs_cols = [\"tot_pop\",\"bachelors_rate\",\"per_capita_income\",\"poverty_rate\",\"white_alone\",\"unemploy_rate\",\"name\",\"state\",\"county\",\"year\"]\n",
    "df_acs.columns = acs_cols\n",
    "df_acs[\"county_fips\"] = df_acs[\"state\"]+df_acs[\"county\"]\n",
    "df_acs = df_acs.drop(columns=[\"name\",\"state\",\"county\"])\n",
    "### merging acs and dec dataframes\n",
    "df_acs_dec = df_acs.merge(df_dec, on=\"county_fips\")\n",
    "df_acs_dec = df_acs_dec.dropna()\n",
    "df_acs_dec = df_acs_dec.astype({\"tot_pop\":int,\"bachelors_rate\":float,\"per_capita_income\":int,\n",
    "                   \"poverty_rate\":float, \"white_alone\":float,\"unemploy_rate\":float,\"year\":object})\n",
    "df_acs_dec[[\"bachelors_rate\",\"poverty_rate\",\"white_alone\",\"unemploy_rate\"]\n",
    "           ] = df_acs_dec[[\"bachelors_rate\",\"poverty_rate\",\"white_alone\",\"unemploy_rate\"]].div(df_acs_dec[\"tot_pop\"],axis=0)\n",
    "df_acs_dec = df_acs_dec.set_index(\"county_fips\")"
   ]
  },
  {
   "cell_type": "code",
   "execution_count": 10,
   "id": "64bd238c-b508-4328-92de-ae2385062d61",
   "metadata": {},
   "outputs": [],
   "source": [
    "### engineering features (trends) in each county that might be good predictors for county flips\n",
    "feature_trends = [\"tot_pop\",\"bachelors_rate\",\"poverty_rate\",\"white_alone\",\"unemploy_rate\"]\n",
    "\n",
    "trend1 = df_acs_dec[df_acs_dec['year'] == \"2016\"][feature_trends]/df_acs_dec[df_acs_dec['year'] == \"2014\"][feature_trends]-1\n",
    "trend1['year']=\"2016\"\n",
    "trend2 = df_acs_dec[df_acs_dec['year'] == \"2020\"][feature_trends]/df_acs_dec[df_acs_dec['year'] == \"2018\"][feature_trends]-1\n",
    "trend2['year']=\"2020\"\n",
    "df_trends = pd.concat([trend1,trend2])\n",
    "df_trends = df_trends.rename(columns={\"tot_pop\":\"rel_delta_pop\",\"bachelors_rate\":\"bachelors_trend\",\n",
    "                            \"poverty_rate\":\"poverty_trend\",\"white_alone\":\"white_trend\",\"unemploy_rate\":\"unemploy_trend\"})\n",
    "df_trends.reset_index(inplace=True)\n",
    "df_all_census = df_trends.merge(df_acs_dec.reset_index(),on=[\"county_fips\",\"year\"])"
   ]
  },
  {
   "cell_type": "code",
   "execution_count": 11,
   "id": "7bd1813e-c5c9-459d-9a84-1e76b14d6a43",
   "metadata": {},
   "outputs": [],
   "source": [
    "# upcoming trend is for the predictions we'll be making for the 2024 election \n",
    "# note that 2024 is incomplete so we don't have the data yet. We will be using 2022 as a proxy for 2024.\n",
    "upcoming_trend = df_acs_dec[df_acs_dec['year'] == \"2022\"][feature_trends]/df_acs_dec[df_acs_dec['year'] == \"2020\"][feature_trends]-1\n",
    "upcoming_trend['year']=\"2022\"\n",
    "upcoming_trend = upcoming_trend.rename(columns={\"tot_pop\":\"rel_delta_pop\",\"bachelors_rate\":\"bachelors_trend\",\n",
    "                            \"poverty_rate\":\"poverty_trend\",\"white_alone\":\"white_trend\",\"unemploy_rate\":\"unemploy_trend\"})"
   ]
  },
  {
   "cell_type": "code",
   "execution_count": 12,
   "id": "0a21b4fa-3d49-4cd7-8c95-3aee1a5f0293",
   "metadata": {},
   "outputs": [],
   "source": [
    "df_census_2022 = upcoming_trend.reset_index().merge(df_acs_dec.reset_index(),on=[\"county_fips\",\"year\"])"
   ]
  },
  {
   "cell_type": "code",
   "execution_count": 13,
   "id": "80801506-4a65-4959-8231-3d1a0b291471",
   "metadata": {},
   "outputs": [
    {
     "data": {
      "text/html": [
       "<div>\n",
       "<style scoped>\n",
       "    .dataframe tbody tr th:only-of-type {\n",
       "        vertical-align: middle;\n",
       "    }\n",
       "\n",
       "    .dataframe tbody tr th {\n",
       "        vertical-align: top;\n",
       "    }\n",
       "\n",
       "    .dataframe thead th {\n",
       "        text-align: right;\n",
       "    }\n",
       "</style>\n",
       "<table border=\"1\" class=\"dataframe\">\n",
       "  <thead>\n",
       "    <tr style=\"text-align: right;\">\n",
       "      <th></th>\n",
       "      <th>county_fips</th>\n",
       "      <th>rel_delta_pop</th>\n",
       "      <th>bachelors_trend</th>\n",
       "      <th>poverty_trend</th>\n",
       "      <th>white_trend</th>\n",
       "      <th>unemploy_trend</th>\n",
       "      <th>year</th>\n",
       "      <th>tot_pop</th>\n",
       "      <th>bachelors_rate</th>\n",
       "      <th>per_capita_income</th>\n",
       "      <th>poverty_rate</th>\n",
       "      <th>white_alone</th>\n",
       "      <th>unemploy_rate</th>\n",
       "      <th>rural</th>\n",
       "      <th>state</th>\n",
       "    </tr>\n",
       "  </thead>\n",
       "  <tbody>\n",
       "    <tr>\n",
       "      <th>0</th>\n",
       "      <td>01001</td>\n",
       "      <td>-0.001578</td>\n",
       "      <td>0.057246</td>\n",
       "      <td>-0.042594</td>\n",
       "      <td>-0.014720</td>\n",
       "      <td>-0.360892</td>\n",
       "      <td>2016</td>\n",
       "      <td>55049</td>\n",
       "      <td>0.094534</td>\n",
       "      <td>26168</td>\n",
       "      <td>0.121655</td>\n",
       "      <td>0.768606</td>\n",
       "      <td>0.026104</td>\n",
       "      <td>0</td>\n",
       "      <td>1</td>\n",
       "    </tr>\n",
       "    <tr>\n",
       "      <th>1</th>\n",
       "      <td>01003</td>\n",
       "      <td>0.043435</td>\n",
       "      <td>0.019091</td>\n",
       "      <td>-0.057742</td>\n",
       "      <td>-0.002476</td>\n",
       "      <td>-0.281830</td>\n",
       "      <td>2016</td>\n",
       "      <td>199510</td>\n",
       "      <td>0.135612</td>\n",
       "      <td>28069</td>\n",
       "      <td>0.128069</td>\n",
       "      <td>0.864323</td>\n",
       "      <td>0.029507</td>\n",
       "      <td>1</td>\n",
       "      <td>1</td>\n",
       "    </tr>\n",
       "    <tr>\n",
       "      <th>2</th>\n",
       "      <td>01005</td>\n",
       "      <td>-0.018622</td>\n",
       "      <td>-0.015427</td>\n",
       "      <td>0.089388</td>\n",
       "      <td>-0.010943</td>\n",
       "      <td>-0.117155</td>\n",
       "      <td>2016</td>\n",
       "      <td>26614</td>\n",
       "      <td>0.053769</td>\n",
       "      <td>17249</td>\n",
       "      <td>0.234275</td>\n",
       "      <td>0.467047</td>\n",
       "      <td>0.049711</td>\n",
       "      <td>0</td>\n",
       "      <td>1</td>\n",
       "    </tr>\n",
       "    <tr>\n",
       "      <th>3</th>\n",
       "      <td>01007</td>\n",
       "      <td>-0.003576</td>\n",
       "      <td>0.063848</td>\n",
       "      <td>-0.053903</td>\n",
       "      <td>0.003069</td>\n",
       "      <td>-0.338146</td>\n",
       "      <td>2016</td>\n",
       "      <td>22572</td>\n",
       "      <td>0.043018</td>\n",
       "      <td>18988</td>\n",
       "      <td>0.150186</td>\n",
       "      <td>0.769537</td>\n",
       "      <td>0.028487</td>\n",
       "      <td>0</td>\n",
       "      <td>1</td>\n",
       "    </tr>\n",
       "    <tr>\n",
       "      <th>4</th>\n",
       "      <td>01009</td>\n",
       "      <td>0.001024</td>\n",
       "      <td>0.108506</td>\n",
       "      <td>-0.044056</td>\n",
       "      <td>0.001633</td>\n",
       "      <td>-0.403927</td>\n",
       "      <td>2016</td>\n",
       "      <td>57704</td>\n",
       "      <td>0.061036</td>\n",
       "      <td>21033</td>\n",
       "      <td>0.163611</td>\n",
       "      <td>0.954405</td>\n",
       "      <td>0.023690</td>\n",
       "      <td>0</td>\n",
       "      <td>1</td>\n",
       "    </tr>\n",
       "  </tbody>\n",
       "</table>\n",
       "</div>"
      ],
      "text/plain": [
       "  county_fips  rel_delta_pop  bachelors_trend  poverty_trend  white_trend  \\\n",
       "0       01001      -0.001578         0.057246      -0.042594    -0.014720   \n",
       "1       01003       0.043435         0.019091      -0.057742    -0.002476   \n",
       "2       01005      -0.018622        -0.015427       0.089388    -0.010943   \n",
       "3       01007      -0.003576         0.063848      -0.053903     0.003069   \n",
       "4       01009       0.001024         0.108506      -0.044056     0.001633   \n",
       "\n",
       "   unemploy_trend  year  tot_pop  bachelors_rate  per_capita_income  \\\n",
       "0       -0.360892  2016    55049        0.094534              26168   \n",
       "1       -0.281830  2016   199510        0.135612              28069   \n",
       "2       -0.117155  2016    26614        0.053769              17249   \n",
       "3       -0.338146  2016    22572        0.043018              18988   \n",
       "4       -0.403927  2016    57704        0.061036              21033   \n",
       "\n",
       "   poverty_rate  white_alone  unemploy_rate  rural  state  \n",
       "0      0.121655     0.768606       0.026104      0      1  \n",
       "1      0.128069     0.864323       0.029507      1      1  \n",
       "2      0.234275     0.467047       0.049711      0      1  \n",
       "3      0.150186     0.769537       0.028487      0      1  \n",
       "4      0.163611     0.954405       0.023690      0      1  "
      ]
     },
     "execution_count": 13,
     "metadata": {},
     "output_type": "execute_result"
    }
   ],
   "source": [
    "df_all_census.head()"
   ]
  },
  {
   "cell_type": "code",
   "execution_count": 14,
   "id": "3fa281f1-8ea3-486a-8460-352885169681",
   "metadata": {},
   "outputs": [],
   "source": [
    "# df_census_2022.head()"
   ]
  },
  {
   "cell_type": "code",
   "execution_count": 15,
   "id": "89ba3a28-a90d-422a-9cf3-e91fa2da5538",
   "metadata": {},
   "outputs": [],
   "source": [
    "### merging election data with census data for years 2016 and 2020\n",
    "df_total = df_elec.merge(df_all_census,on=[\"county_fips\",\"year\"])\n",
    "df_total[\"voter_turnout\"] = df_total[\"totalvotes\"]/df_total[\"tot_pop\"]\n",
    "df_total[\"flipped\"] = df_total[\"flipped\"].map({-1:2,0:0,1:1}) #now 2 means flipped R\n",
    "df_total = df_total[(df_total != np.inf)&(df_total != -np.inf)]\n",
    "df_total = df_total.dropna()"
   ]
  },
  {
   "cell_type": "code",
   "execution_count": 16,
   "id": "414da0b2-7d6b-4619-9390-4824e37969aa",
   "metadata": {},
   "outputs": [],
   "source": [
    "### merging election data with census data for year 2022 (proxy for 2024)\n",
    "df_total_2022 = df_elec_upcoming.merge(df_census_2022,on=[\"county_fips\",\"year\"])\n",
    "df_total_2022[\"voter_turnout\"] = df_total_2022[\"totalvotes\"]/df_total_2022[\"tot_pop\"]\n",
    "df_total_2022 = df_total_2022[(df_total_2022 != np.inf)&(df_total_2022 != -np.inf)]\n",
    "df_total_2022 = df_total_2022.dropna()"
   ]
  },
  {
   "cell_type": "code",
   "execution_count": 17,
   "id": "00dc768a-26a5-43d0-9514-fbe241f5dbd5",
   "metadata": {},
   "outputs": [
    {
     "data": {
      "text/html": [
       "<div>\n",
       "<style scoped>\n",
       "    .dataframe tbody tr th:only-of-type {\n",
       "        vertical-align: middle;\n",
       "    }\n",
       "\n",
       "    .dataframe tbody tr th {\n",
       "        vertical-align: top;\n",
       "    }\n",
       "\n",
       "    .dataframe thead th {\n",
       "        text-align: right;\n",
       "    }\n",
       "</style>\n",
       "<table border=\"1\" class=\"dataframe\">\n",
       "  <thead>\n",
       "    <tr style=\"text-align: right;\">\n",
       "      <th></th>\n",
       "      <th>county_fips</th>\n",
       "      <th>year</th>\n",
       "      <th>totalvotes</th>\n",
       "      <th>flipped</th>\n",
       "      <th>swing_prev</th>\n",
       "      <th>party_prev</th>\n",
       "      <th>rel_delta_pop</th>\n",
       "      <th>bachelors_trend</th>\n",
       "      <th>poverty_trend</th>\n",
       "      <th>white_trend</th>\n",
       "      <th>unemploy_trend</th>\n",
       "      <th>tot_pop</th>\n",
       "      <th>bachelors_rate</th>\n",
       "      <th>per_capita_income</th>\n",
       "      <th>poverty_rate</th>\n",
       "      <th>white_alone</th>\n",
       "      <th>unemploy_rate</th>\n",
       "      <th>rural</th>\n",
       "      <th>state</th>\n",
       "      <th>voter_turnout</th>\n",
       "    </tr>\n",
       "  </thead>\n",
       "  <tbody>\n",
       "    <tr>\n",
       "      <th>0</th>\n",
       "      <td>01001</td>\n",
       "      <td>2016</td>\n",
       "      <td>24973</td>\n",
       "      <td>0</td>\n",
       "      <td>0</td>\n",
       "      <td>0</td>\n",
       "      <td>-0.001578</td>\n",
       "      <td>0.057246</td>\n",
       "      <td>-0.042594</td>\n",
       "      <td>-0.014720</td>\n",
       "      <td>-0.360892</td>\n",
       "      <td>55049</td>\n",
       "      <td>0.094534</td>\n",
       "      <td>26168</td>\n",
       "      <td>0.121655</td>\n",
       "      <td>0.768606</td>\n",
       "      <td>0.026104</td>\n",
       "      <td>0</td>\n",
       "      <td>1</td>\n",
       "      <td>0.453650</td>\n",
       "    </tr>\n",
       "    <tr>\n",
       "      <th>1</th>\n",
       "      <td>01003</td>\n",
       "      <td>2016</td>\n",
       "      <td>95215</td>\n",
       "      <td>0</td>\n",
       "      <td>0</td>\n",
       "      <td>0</td>\n",
       "      <td>0.043435</td>\n",
       "      <td>0.019091</td>\n",
       "      <td>-0.057742</td>\n",
       "      <td>-0.002476</td>\n",
       "      <td>-0.281830</td>\n",
       "      <td>199510</td>\n",
       "      <td>0.135612</td>\n",
       "      <td>28069</td>\n",
       "      <td>0.128069</td>\n",
       "      <td>0.864323</td>\n",
       "      <td>0.029507</td>\n",
       "      <td>1</td>\n",
       "      <td>1</td>\n",
       "      <td>0.477244</td>\n",
       "    </tr>\n",
       "    <tr>\n",
       "      <th>2</th>\n",
       "      <td>01005</td>\n",
       "      <td>2016</td>\n",
       "      <td>10469</td>\n",
       "      <td>2</td>\n",
       "      <td>1</td>\n",
       "      <td>1</td>\n",
       "      <td>-0.018622</td>\n",
       "      <td>-0.015427</td>\n",
       "      <td>0.089388</td>\n",
       "      <td>-0.010943</td>\n",
       "      <td>-0.117155</td>\n",
       "      <td>26614</td>\n",
       "      <td>0.053769</td>\n",
       "      <td>17249</td>\n",
       "      <td>0.234275</td>\n",
       "      <td>0.467047</td>\n",
       "      <td>0.049711</td>\n",
       "      <td>0</td>\n",
       "      <td>1</td>\n",
       "      <td>0.393364</td>\n",
       "    </tr>\n",
       "    <tr>\n",
       "      <th>3</th>\n",
       "      <td>01007</td>\n",
       "      <td>2016</td>\n",
       "      <td>8819</td>\n",
       "      <td>0</td>\n",
       "      <td>0</td>\n",
       "      <td>0</td>\n",
       "      <td>-0.003576</td>\n",
       "      <td>0.063848</td>\n",
       "      <td>-0.053903</td>\n",
       "      <td>0.003069</td>\n",
       "      <td>-0.338146</td>\n",
       "      <td>22572</td>\n",
       "      <td>0.043018</td>\n",
       "      <td>18988</td>\n",
       "      <td>0.150186</td>\n",
       "      <td>0.769537</td>\n",
       "      <td>0.028487</td>\n",
       "      <td>0</td>\n",
       "      <td>1</td>\n",
       "      <td>0.390705</td>\n",
       "    </tr>\n",
       "    <tr>\n",
       "      <th>4</th>\n",
       "      <td>01009</td>\n",
       "      <td>2016</td>\n",
       "      <td>25588</td>\n",
       "      <td>0</td>\n",
       "      <td>0</td>\n",
       "      <td>0</td>\n",
       "      <td>0.001024</td>\n",
       "      <td>0.108506</td>\n",
       "      <td>-0.044056</td>\n",
       "      <td>0.001633</td>\n",
       "      <td>-0.403927</td>\n",
       "      <td>57704</td>\n",
       "      <td>0.061036</td>\n",
       "      <td>21033</td>\n",
       "      <td>0.163611</td>\n",
       "      <td>0.954405</td>\n",
       "      <td>0.023690</td>\n",
       "      <td>0</td>\n",
       "      <td>1</td>\n",
       "      <td>0.443435</td>\n",
       "    </tr>\n",
       "  </tbody>\n",
       "</table>\n",
       "</div>"
      ],
      "text/plain": [
       "  county_fips  year  totalvotes  flipped  swing_prev  party_prev  \\\n",
       "0       01001  2016       24973        0           0           0   \n",
       "1       01003  2016       95215        0           0           0   \n",
       "2       01005  2016       10469        2           1           1   \n",
       "3       01007  2016        8819        0           0           0   \n",
       "4       01009  2016       25588        0           0           0   \n",
       "\n",
       "   rel_delta_pop  bachelors_trend  poverty_trend  white_trend  unemploy_trend  \\\n",
       "0      -0.001578         0.057246      -0.042594    -0.014720       -0.360892   \n",
       "1       0.043435         0.019091      -0.057742    -0.002476       -0.281830   \n",
       "2      -0.018622        -0.015427       0.089388    -0.010943       -0.117155   \n",
       "3      -0.003576         0.063848      -0.053903     0.003069       -0.338146   \n",
       "4       0.001024         0.108506      -0.044056     0.001633       -0.403927   \n",
       "\n",
       "   tot_pop  bachelors_rate  per_capita_income  poverty_rate  white_alone  \\\n",
       "0    55049        0.094534              26168      0.121655     0.768606   \n",
       "1   199510        0.135612              28069      0.128069     0.864323   \n",
       "2    26614        0.053769              17249      0.234275     0.467047   \n",
       "3    22572        0.043018              18988      0.150186     0.769537   \n",
       "4    57704        0.061036              21033      0.163611     0.954405   \n",
       "\n",
       "   unemploy_rate  rural  state  voter_turnout  \n",
       "0       0.026104      0      1       0.453650  \n",
       "1       0.029507      1      1       0.477244  \n",
       "2       0.049711      0      1       0.393364  \n",
       "3       0.028487      0      1       0.390705  \n",
       "4       0.023690      0      1       0.443435  "
      ]
     },
     "execution_count": 17,
     "metadata": {},
     "output_type": "execute_result"
    }
   ],
   "source": [
    "df_total.head()"
   ]
  },
  {
   "cell_type": "markdown",
   "id": "8e628c8f-1a08-4742-b1e7-96145999d712",
   "metadata": {},
   "source": [
    "### Model training\n",
    "\n",
    "We will be using the XGBoost classifier to classify counties as `no flip`, `flip to Democrat`, `flip to Republican`"
   ]
  },
  {
   "cell_type": "code",
   "execution_count": 21,
   "id": "896e29c7-e3ab-47b0-81d6-f16a570dba67",
   "metadata": {},
   "outputs": [],
   "source": [
    "import xgboost as xgb\n",
    "from sklearn.metrics import confusion_matrix\n",
    "from sklearn.model_selection import train_test_split\n",
    "from sklearn.utils.class_weight import compute_sample_weight\n",
    "import matplotlib.pyplot as plt"
   ]
  },
  {
   "cell_type": "code",
   "execution_count": 22,
   "id": "bbd8cf2b-de23-4a11-a353-936dc824c5d0",
   "metadata": {},
   "outputs": [],
   "source": [
    "features = [\"swing_prev\",\"rel_delta_pop\",\"bachelors_trend\",\"poverty_trend\",\"white_trend\",\n",
    "            \"unemploy_trend\",\"tot_pop\",\"bachelors_rate\",\"per_capita_income\",\"poverty_rate\",\n",
    "           \"white_alone\",\"unemploy_rate\",\"rural\",\"voter_turnout\",\"state\",\"party_prev\"]\n",
    "X = df_total[features]\n",
    "y = df_total[\"flipped\"].values"
   ]
  },
  {
   "cell_type": "code",
   "execution_count": 23,
   "id": "bca71d1a-8211-49a6-8648-fb052ca5b763",
   "metadata": {},
   "outputs": [
    {
     "data": {
      "image/png": "[encoded data removed]",
      "text/plain": [
       "<Figure size 400x400 with 2 Axes>"
      ]
     },
     "metadata": {},
     "output_type": "display_data"
    }
   ],
   "source": [
    "X_train, X_test, y_train, y_test = train_test_split(X, y, test_size=0.25, random_state=1,shuffle=True)\n",
    "\n",
    "sample_weights = pd.Series(y_train).map({0:0.005,1:2,2:1}).values\n",
    "model = xgb.XGBClassifier(eval_metric='mlogloss')\n",
    "model.fit(X_train, y_train, sample_weight=sample_weights)\n",
    "y_pred = model.predict(X_test)\n",
    "cm = confusion_matrix(y_test, y_pred)\n",
    "\n",
    "fig,ax = plt.subplots(1,figsize=(4,4))\n",
    "sns.heatmap(cm,annot=True,cmap='Blues', fmt='g',ax=ax)\n",
    "ax.set_xlabel(\"predicted\")\n",
    "ax.set_ylabel(\"actual\")\n",
    "target_labels = [\"no flip\",\"flip to D\",\"flip to R\"]\n",
    "ax.set_yticklabels(target_labels)\n",
    "ax.set_xticklabels(target_labels);"
   ]
  },
  {
   "cell_type": "markdown",
   "id": "6f079009-1f43-4f90-aeb7-a2289436ff7b",
   "metadata": {},
   "source": [
    "### classification metrics of model performance\n",
    "\n",
    "Precision is the ratio of correctly predictied positive observations to the total predicted positives. If you care about **false positives**  (high cost), you want to have high precision. For example, false positives in cancer diagnoses could be bad because it could cause someone to undergo a taxing, unnecessary treatment. How to remember it: How **P**recise are your **P**redictions?\n",
    "\n",
    "$$\\mathrm{Precision} = \\frac{\\mathrm{TP}}{\\mathrm{TP}+\\mathrm{FP}} = \\frac{\\mathrm{TP}}{\\mathrm{all Predicted Positives}}$$\n",
    "\n",
    "Recall (sensitivity or true positive rate) is the ratio of correctly predicted positive observations to all actual positives. If you care about **false negatives**, you want high recall. For example, false negatives in cancer diagnoses could be bad because it could cause someone who has cancer to not be diagnosed and therefore not treated. How to remember it: The FN doctor didn't detect the disease. \n",
    "\n",
    "$$\\mathrm{Recall} = \\frac{\\mathrm{TP}}{\\mathrm{TP}+\\mathrm{FN}}  = \\frac{\\mathrm{TP}}{\\mathrm{all Actual Positives}}$$\n",
    "\n",
    "\n",
    "Specificity (true negative rate) is the ratio of correctly predicted negative observations to all actual negatives.\n",
    "$$\\mathrm{Specificity} = \\frac{\\mathrm{TN}}{\\mathrm{TN}+\\mathrm{FP}}  = \\frac{\\mathrm{TN}}{\\mathrm{all Actual Negatives}}$$\n",
    "\n",
    "The F1-Score is the harmonic mean of precision and recall. It balances the two, and a high F1-score indicates good performance on both metrics.\n",
    "\n",
    "$$\\mathrm{F1score} = \\frac{\\mathrm{Precision}\\times\\mathrm{Recall}}{\\mathrm{Precision}+\\mathrm{Recall}} $$\n",
    "\n",
    "\n",
    "Support is the number of true instances for each class in the dataset (i.e., how many samples belong to each class)"
   ]
  },
  {
   "cell_type": "markdown",
   "id": "6930255d-67cb-4514-a5d2-c4e2ea93016e",
   "metadata": {},
   "source": [
    "### for county flip predictions, what do we care about?\n",
    "\n",
    "We care most about maximizing the proportion of actual flipped counties in our predictions. On the other hand, it is not as important if our model predicts that counties flip when they actually don't.\n",
    "\n",
    "1. Ideally, of all the `no flip` predictions, we want them to be highly accurate so we want high precision for `no flip`. It also important (but less so) that the actual `no flip` predictions are correctly classified so we also want high recall. `no flip` is the majority class so the precision and recall will be fairly high already.\n",
    "2. For `flip to D` and `flip to R` predictions, we care about cases where we predict `no flip` but they are actually flipped! That would be a false negative. Since we care about false-negatives, we should optimize recall.\n",
    "3. Again for `flip to D` and `flip to R` predictions, it's okay if they predict extra `no flip` counties (false-positives). That means the precision won't be as important in comparison to recall.\n",
    "\n",
    "\n"
   ]
  },
  {
   "cell_type": "code",
   "execution_count": 26,
   "id": "4820ae43-750a-4dc6-95d1-97240059e18a",
   "metadata": {},
   "outputs": [
    {
     "name": "stdout",
     "output_type": "stream",
     "text": [
      "              precision    recall  f1-score   support\n",
      "\n",
      "     no flip       0.99      0.87      0.93      1467\n",
      "   flip to D       0.21      0.71      0.32        28\n",
      "   flip to R       0.34      0.98      0.51        58\n",
      "\n",
      "    accuracy                           0.88      1553\n",
      "   macro avg       0.51      0.86      0.59      1553\n",
      "weighted avg       0.95      0.88      0.90      1553\n",
      "\n"
     ]
    }
   ],
   "source": [
    "from sklearn.metrics import classification_report\n",
    "print(classification_report(y_true = y_test, \n",
    "                            y_pred = y_pred,\n",
    "                            target_names=target_labels))"
   ]
  },
  {
   "cell_type": "markdown",
   "id": "0fbaa86c-0303-48f3-876e-ac4783905293",
   "metadata": {},
   "source": [
    "### Main takeaway from the above classification report\n",
    "\n",
    "`flip to D` and `flip to R` have recalls of 0.71 and 0.98 which is fairly high. We were shooting for higher recall for this model so this is a good result. In words, this means that 71% (98%) of actually flipped counties were correctly predicted.\n",
    "\n",
    "\n",
    "`flip to D` and `flip to R` have precisions of 0.21 and 0.34 respectively which is fairly low. This means that 21% (34%) of the predicted flipped counties are actually flipped counties. So basically this model casts a somewhat wide net on which counties are likely to flip. Of course there is huge uncertainty (i.e. media consumption, isolated major events, etc) which could have major effects that we do not capture at all in this analysis. So a lower precision would actually provide a sort of regularization effect as it helps show that we are not being over-confident and over-fitting to the data. "
   ]
  },
  {
   "cell_type": "code",
   "execution_count": 27,
   "id": "27cf03e4-fdf4-4236-93e3-c9be3dcaade2",
   "metadata": {},
   "outputs": [],
   "source": [
    "### sanity check\n",
    "true_positives = np.sum(y_test[y_pred==1])\n",
    "all_actual_positive = np.sum(y_test==1)\n",
    "recall = true_positives/all_actual_positive\n",
    "all_pred_positive = np.sum(y_pred==1)\n",
    "precision = true_positives/all_pred_positive\n",
    "#print(precision, recall) #this matches expectation for 'flip to D' row"
   ]
  },
  {
   "cell_type": "markdown",
   "id": "230e3403-023d-46eb-a8b7-0744c3194613",
   "metadata": {},
   "source": [
    "### Feature importance\n",
    "Note that this feature importance includes all 3 classes (including the majority `no flip` class). Therefore this figure might be a bit misleading regarding the features that are most important for the flipped classes."
   ]
  },
  {
   "cell_type": "code",
   "execution_count": 28,
   "id": "350515a3-d424-430c-b58a-263e60715498",
   "metadata": {},
   "outputs": [
    {
     "data": {
      "image/png": "[encoded data removed]",
      "text/plain": [
       "<Figure size 400x400 with 1 Axes>"
      ]
     },
     "metadata": {},
     "output_type": "display_data"
    }
   ],
   "source": [
    "importance = model.get_booster().get_score(importance_type='gain')\n",
    "importance.pop('party_prev', None) #removing this because it is too obvious of a feature.\n",
    "fig,ax = plt.subplots(1,figsize=(4,4))\n",
    "xgb.plot_importance(importance, importance_type='gain',show_values=False,ax=ax);"
   ]
  },
  {
   "cell_type": "markdown",
   "id": "a922a974-230c-4d8b-947d-deac7a54e904",
   "metadata": {},
   "source": [
    "### comparing distributions of possibly important features"
   ]
  },
  {
   "cell_type": "code",
   "execution_count": 29,
   "id": "9afec3f7-e024-40d3-b04a-d9f11173b799",
   "metadata": {},
   "outputs": [
    {
     "data": {
      "image/png": "[encoded data removed]",
      "text/plain": [
       "<Figure size 500x500 with 4 Axes>"
      ]
     },
     "metadata": {},
     "output_type": "display_data"
    }
   ],
   "source": [
    "fig,ax = plt.subplots(2,2,figsize=(5,5))\n",
    "sns.violinplot(data=df_total,y=\"bachelors_rate\",x=\"flipped\",ax=ax[0][0])\n",
    "sns.violinplot(data=df_total,y=\"per_capita_income\",x=\"flipped\",ax=ax[1][0])\n",
    "sns.violinplot(data=df_total,y=\"white_trend\",x=\"flipped\",ax=ax[0][1])\n",
    "sns.violinplot(data=df_total,y=\"unemploy_trend\",x=\"flipped\",ax=ax[1][1])\n",
    "for i in range(2):\n",
    "    for j in range(2):\n",
    "        ax[i][j].set_xticklabels(target_labels,rotation=50)\n",
    "        ax[i][j].set_xlabel(None)\n",
    "        # target_labels = [\"no flip\",\"flip to D\",\"flip to R\"]\n",
    "ax[0][1].set_ylim(-0.1,.1)\n",
    "ax[1][1].set_ylim(-1,1)\n",
    "plt.tight_layout()"
   ]
  },
  {
   "cell_type": "markdown",
   "id": "5dfa8e1a-984a-4a87-a676-7a97be110607",
   "metadata": {},
   "source": [
    "### predicting flipped counties of next election"
   ]
  },
  {
   "cell_type": "code",
   "execution_count": 30,
   "id": "bfe6a546-d5b1-416e-a4f5-f2c34cda5ff7",
   "metadata": {},
   "outputs": [],
   "source": [
    "X_2022 = df_total_2022[features]\n",
    "y_pred_2022 = model.predict(X_2022)\n",
    "df_total_2022[\"flipped\"] = y_pred_2022"
   ]
  },
  {
   "cell_type": "markdown",
   "id": "8bf1e5b4-023e-49f0-ad55-ba82080b30f4",
   "metadata": {},
   "source": [
    "We need to make sure that the predicted flipped counties have the correct starting point. It is obviously required that the a flip to D county must have been R before and vice versa. This problem only happens 2% of the time for the flip to D counties and it doesn't happen for the flip to R counties."
   ]
  },
  {
   "cell_type": "code",
   "execution_count": 31,
   "id": "f31409f8-49b6-4abf-932d-fa44e4ba0157",
   "metadata": {},
   "outputs": [
    {
     "name": "stdout",
     "output_type": "stream",
     "text": [
      "8\n"
     ]
    }
   ],
   "source": [
    "### getting rid of double flips\n",
    "test1 = df_total_2022[[\"county_fips\",\"flipped\"]] # flips for 2022\n",
    "test2 = df_total[df_total.year==\"2020\"][[\"county_fips\",\"flipped\"]] #flips for 2020\n",
    "test3 = test1.merge(test2,on='county_fips') # merging the previous two df's on fips\n",
    "test4 = test3[test3.flipped_x!=0]\n",
    "indices = test4[test4.flipped_x == test4.flipped_y]['county_fips'].values\n",
    "# df_total_2022 = df_total_2022.set_index(\"county_fips\")\n",
    "mask_doubleflip = df_total_2022[\"county_fips\"].isin(indices)\n",
    "print(np.sum(mask_doubleflip))\n",
    "df_total_2022.loc[mask_doubleflip,'flipped'] = 0"
   ]
  },
  {
   "cell_type": "markdown",
   "id": "f2361680-9d72-430c-a908-152b2f0191cc",
   "metadata": {},
   "source": [
    "### Most populous predicted flipped counties"
   ]
  },
  {
   "cell_type": "code",
   "execution_count": 32,
   "id": "af0c0ed2-9976-4c9d-a3a7-e0c8cdc4ba59",
   "metadata": {},
   "outputs": [
    {
     "data": {
      "text/html": [
       "<div>\n",
       "<style scoped>\n",
       "    .dataframe tbody tr th:only-of-type {\n",
       "        vertical-align: middle;\n",
       "    }\n",
       "\n",
       "    .dataframe tbody tr th {\n",
       "        vertical-align: top;\n",
       "    }\n",
       "\n",
       "    .dataframe thead th {\n",
       "        text-align: right;\n",
       "    }\n",
       "</style>\n",
       "<table border=\"1\" class=\"dataframe\">\n",
       "  <thead>\n",
       "    <tr style=\"text-align: right;\">\n",
       "      <th></th>\n",
       "      <th>county_fips</th>\n",
       "      <th>totalvotes</th>\n",
       "      <th>flipped</th>\n",
       "    </tr>\n",
       "  </thead>\n",
       "  <tbody>\n",
       "    <tr>\n",
       "      <th>1844</th>\n",
       "      <td>36103</td>\n",
       "      <td>757877</td>\n",
       "      <td>1</td>\n",
       "    </tr>\n",
       "    <tr>\n",
       "      <th>1245</th>\n",
       "      <td>26099</td>\n",
       "      <td>494256</td>\n",
       "      <td>1</td>\n",
       "    </tr>\n",
       "    <tr>\n",
       "      <th>2529</th>\n",
       "      <td>48085</td>\n",
       "      <td>490856</td>\n",
       "      <td>1</td>\n",
       "    </tr>\n",
       "  </tbody>\n",
       "</table>\n",
       "</div>"
      ],
      "text/plain": [
       "     county_fips  totalvotes  flipped\n",
       "1844       36103      757877        1\n",
       "1245       26099      494256        1\n",
       "2529       48085      490856        1"
      ]
     },
     "execution_count": 32,
     "metadata": {},
     "output_type": "execute_result"
    }
   ],
   "source": [
    "df_total_2022[df_total_2022[\"flipped\"]==1].sort_values(by=\"totalvotes\",ascending=False).head(3)[[\"county_fips\",\"totalvotes\",\"flipped\"]]"
   ]
  },
  {
   "cell_type": "markdown",
   "id": "f876452c-8b20-40ff-a650-2a69d95d4cfc",
   "metadata": {},
   "source": [
    "3 most populous counties predicted to flip from R to D\n",
    "1. Suffolk County, NY, 40.9849° N, 72.6151° W\n",
    "2. Macomb County, MI, 42.7169° N, 82.8210° W\n",
    "3. Collin County, TX, 33.1795° N, 96.4930° W"
   ]
  },
  {
   "cell_type": "code",
   "execution_count": 33,
   "id": "4e281acb-3ef0-46f2-b12c-1b67a1df4b0b",
   "metadata": {},
   "outputs": [
    {
     "data": {
      "text/html": [
       "<div>\n",
       "<style scoped>\n",
       "    .dataframe tbody tr th:only-of-type {\n",
       "        vertical-align: middle;\n",
       "    }\n",
       "\n",
       "    .dataframe tbody tr th {\n",
       "        vertical-align: top;\n",
       "    }\n",
       "\n",
       "    .dataframe thead th {\n",
       "        text-align: right;\n",
       "    }\n",
       "</style>\n",
       "<table border=\"1\" class=\"dataframe\">\n",
       "  <thead>\n",
       "    <tr style=\"text-align: right;\">\n",
       "      <th></th>\n",
       "      <th>county_fips</th>\n",
       "      <th>totalvotes</th>\n",
       "      <th>flipped</th>\n",
       "    </tr>\n",
       "  </thead>\n",
       "  <tbody>\n",
       "    <tr>\n",
       "      <th>209</th>\n",
       "      <td>06099</td>\n",
       "      <td>214954</td>\n",
       "      <td>2</td>\n",
       "    </tr>\n",
       "    <tr>\n",
       "      <th>1736</th>\n",
       "      <td>33015</td>\n",
       "      <td>198798</td>\n",
       "      <td>2</td>\n",
       "    </tr>\n",
       "    <tr>\n",
       "      <th>2233</th>\n",
       "      <td>42049</td>\n",
       "      <td>137083</td>\n",
       "      <td>2</td>\n",
       "    </tr>\n",
       "  </tbody>\n",
       "</table>\n",
       "</div>"
      ],
      "text/plain": [
       "     county_fips  totalvotes  flipped\n",
       "209        06099      214954        2\n",
       "1736       33015      198798        2\n",
       "2233       42049      137083        2"
      ]
     },
     "execution_count": 33,
     "metadata": {},
     "output_type": "execute_result"
    }
   ],
   "source": [
    "df_total_2022[df_total_2022[\"flipped\"]==2].sort_values(by=\"totalvotes\",ascending=False).head(3)[[\"county_fips\",\"totalvotes\",\"flipped\"]]"
   ]
  },
  {
   "cell_type": "markdown",
   "id": "1acd3f90-0bba-4c7c-a732-c6119e562488",
   "metadata": {},
   "source": [
    "3 most populous counties predicted to flip from D to R\n",
    "1. Stanislaus County, CA, 37.5091° N, 120.9876° W\n",
    "2. Rockingham County, NH, 42.9931° N, 71.0498° W\n",
    "3. Erie County, PA, 42.0522° N, 80.1875° W\n"
   ]
  },
  {
   "cell_type": "markdown",
   "id": "6ed603a5-f6f0-4ded-a5ce-c495211a8070",
   "metadata": {},
   "source": [
    "### saving dataframes"
   ]
  },
  {
   "cell_type": "code",
   "execution_count": 34,
   "id": "21bef43d-9473-4a53-a55d-058eab73f6f4",
   "metadata": {},
   "outputs": [],
   "source": [
    "df_total_2022.to_csv(\"data/df_total_2022.csv\",index=False)\n",
    "df_total.to_csv(\"data/df_total_2016-2020.csv\",index=False)"
   ]
  },
  {
   "cell_type": "markdown",
   "id": "3506b484-3232-4b4a-b6aa-9f3f3e2cd6eb",
   "metadata": {},
   "source": [
    "See `geospatial_map_visualization.ipynb` to visualize this result."
   ]
  }
 ],
 "metadata": {
  "kernelspec": {
   "display_name": "Python 3 (ipykernel)",
   "language": "python",
   "name": "python3"
  },
  "language_info": {
   "codemirror_mode": {
    "name": "ipython",
    "version": 3
   },
   "file_extension": ".py",
   "mimetype": "text/x-python",
   "name": "python",
   "nbconvert_exporter": "python",
   "pygments_lexer": "ipython3",
   "version": "3.10.6"
  }
 },
 "nbformat": 4,
 "nbformat_minor": 5
}
